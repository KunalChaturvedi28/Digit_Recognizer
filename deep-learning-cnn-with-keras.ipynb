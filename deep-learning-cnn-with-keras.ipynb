{
 "cells": [
  {
   "cell_type": "code",
   "execution_count": 1,
   "metadata": {
    "_cell_guid": "0608ac4c-6ce3-45c7-ac26-fe65893cd1e1",
    "_execution_state": "idle",
    "_uuid": "4de6a5d29b28e552819c1599d875f9d3529bd356"
   },
   "outputs": [
    {
     "name": "stderr",
     "output_type": "stream",
     "text": [
      "Using TensorFlow backend.\n"
     ]
    }
   ],
   "source": [
    "from importlib import reload\n",
    "#from __future__ import print_function\n",
    "import keras\n",
    "import numpy as np\n",
    "import matplotlib.pyplot as plt\n",
    "from keras.models import Sequential\n",
    "from keras.layers import Dense, Dropout,Flatten,Conv2D, MaxPooling2D\n",
    "from keras.optimizers import RMSprop\n",
    "from keras.utils.np_utils import to_categorical\n",
    "import pandas as pd\n",
    "from sklearn.model_selection import train_test_split"
   ]
  },
  {
   "cell_type": "markdown",
   "metadata": {
    "_cell_guid": "f1bf60b0-964b-42fb-8635-b874fee9b22f",
    "_uuid": "82e588181f2493bbc207b86c2dc033d19cc8188a"
   },
   "source": [
    "Import the data."
   ]
  },
  {
   "cell_type": "code",
   "execution_count": 2,
   "metadata": {
    "_cell_guid": "c5359d99-d444-4866-9528-f19dc0550ee7",
    "_execution_state": "idle",
    "_uuid": "189f36fa9d303d0764cf0603856a3b74d39dfb4e"
   },
   "outputs": [
    {
     "name": "stdout",
     "output_type": "stream",
     "text": [
      "training data is (42000, 785).\n"
     ]
    }
   ],
   "source": [
    "train = pd.read_csv('../input/train.csv')\n",
    "train.head()\n",
    "print('training data is (%d, %d).'% train.shape)"
   ]
  },
  {
   "cell_type": "markdown",
   "metadata": {
    "_cell_guid": "d41f3ebe-28b8-42c8-92a3-aec7e508af3c",
    "_execution_state": "idle",
    "_uuid": "ed68d622cf3e6f8d6d45be15105b3957d93fb3b0"
   },
   "source": [
    "Let's split the training set into 2, training set and validation set. This is done with `train_test_split` in `sklearn` module."
   ]
  },
  {
   "cell_type": "code",
   "execution_count": 3,
   "metadata": {
    "_cell_guid": "a43ce5a4-dd71-4aba-b0e2-31fdd03bb0f5",
    "_execution_state": "idle",
    "_uuid": "738686cc43ffa7df8a359ec0670144862b99e1bf",
    "collapsed": true
   },
   "outputs": [],
   "source": [
    "X_train_all = (train.iloc[:,1:].values).astype('float32')/255 # all pixel values, convert to value in [0,1]\n",
    "y_train_all = train.iloc[:,0].values.astype('int32') # only labels i.e targets digits\n",
    "y_train_all= to_categorical(y_train_all) # This convert y into onehot representation\n",
    "X_train, X_val, y_train, y_val = train_test_split(X_train_all, y_train_all, test_size=0.10, random_state=42)"
   ]
  },
  {
   "cell_type": "markdown",
   "metadata": {
    "_cell_guid": "8207dbc8-5d70-4109-95a1-0d50ebf88f51",
    "_uuid": "b8982a96ec0a8b40e3496c688e8a120aceb28347"
   },
   "source": [
    "We have to map the image vectors (size 784) back to image. Specially, we have to convert to (28,28,1), since the convoluation layer of Kares only accept image of dimension 3 (the last dimension is the color channel)."
   ]
  },
  {
   "cell_type": "code",
   "execution_count": 4,
   "metadata": {
    "_cell_guid": "fe297e6a-2a73-447d-8139-22f805541669",
    "_execution_state": "idle",
    "_uuid": "23dd3c5f645a9c11d9bac5faffa9e85689cae213",
    "collapsed": true
   },
   "outputs": [],
   "source": [
    "X_train_img=np.reshape(X_train,(X_train.shape[0],28,28,1))\n",
    "X_val_img = np.reshape(X_val,(X_val.shape[0],28,28,1))"
   ]
  },
  {
   "cell_type": "code",
   "execution_count": 5,
   "metadata": {
    "_cell_guid": "32b1cebd-0d58-4028-8dd9-a2d8a52bef2b",
    "_execution_state": "idle",
    "_uuid": "ab843ef321822dcf656641ff5a468e8bbad9734e"
   },
   "outputs": [
    {
     "data": {
      "image/png": "[encoded data removed]",
      "text/plain": [
       "<matplotlib.figure.Figure at 0x7f666f86dbe0>"
      ]
     },
     "metadata": {},
     "output_type": "display_data"
    }
   ],
   "source": [
    "plt.imshow(X_train_img[0,:,:,0],cmap = 'gray')\n",
    "plt.show()"
   ]
  },
  {
   "cell_type": "markdown",
   "metadata": {
    "_cell_guid": "bc09721e-2e99-4c4c-a720-f08dfa4066e0",
    "_uuid": "9beedc8de718175a1a659838a5f2cf2b132be36e"
   },
   "source": [
    "## 2. A Typical CNN structure: one CNN layer.\n",
    "\n",
    "We are going to setup the following CNN model. Basically: input layer --> CNN layer --> softmax layer\n",
    "\n",
    "### 1. Input layer: \n",
    "The original input image is `28 x 28`, so the `input_shape=(28,28,1)`, where `1` indicates that number of color channels is 1. \n",
    " \n",
    "### 2. Convolution layer:\n",
    " In the following convolution layer, there are 32 filters, and each filters is `3 x 3`.\n",
    "  * You can set border differently by:\n",
    "       ```\n",
    "       border_mode='same', 'fall', or 'valid' (default)\n",
    "       ```\n",
    "  * With `valid` border, after convolution (with stride=0), the filted image (AKA **feature map**) size is `(28-2) x (28-2) = 26 x 26` . Note there are 32 feature maps.\n",
    "    \n",
    "  * Set **stride** 2 by `strides=(2,2)`. The stride action will skip one pixel (both vertically and horizontally) while applying convolution. So now the every feature map (the filtered and subsampled image) is `13 x 13`\n",
    " \n",
    "  * There are $$32\\cdot3\\cdot3+32 =320$$ parameters:\n",
    "     - Each \"pixel\" of a feature map is obtained by $$\\sum_{i=1}^9 w_i x_i +b,$$ where $$w_1,...,w_9,b\\in \\mathbb{R}^{10}$$ are parameters and $$(x_1,...,x_9)$$ are pixel values of a `3 x 3` image patches, AKA **receptive field**, in the original input image.\n",
    "   \n",
    "  * Using `relu` units by `activation='relu'`, then max Pooling by 2. So the output of this CNN layer will be 32 of `6 x  6` \"images\".\n",
    "   \n",
    "### 3. Flatten layer:\n",
    " one has to 'flatten' the output of the CNN layer before applying softmax layer. After flatten, the input of the next layer is of $$6\\cdot 6\\cdot 32=1152$$ values.\n",
    " \n",
    "### 4. Softmax layer:\n",
    "So the last layer ('softmax') would require $$1152\\cdot 10+10=11530$$ parameters.\n"
   ]
  },
  {
   "cell_type": "code",
   "execution_count": 6,
   "metadata": {
    "_cell_guid": "bf2ed711-f2b1-43a9-89e9-f73bc9a8bf69",
    "_execution_state": "idle",
    "_uuid": "f84a4d313311daeed5dff0dc70ca10be153305ac"
   },
   "outputs": [
    {
     "name": "stdout",
     "output_type": "stream",
     "text": [
      "_________________________________________________________________\n",
      "Layer (type)                 Output Shape              Param #   \n",
      "=================================================================\n",
      "conv2d_1 (Conv2D)            (None, 13, 13, 32)        320       \n",
      "_________________________________________________________________\n",
      "max_pooling2d_1 (MaxPooling2 (None, 6, 6, 32)          0         \n",
      "_________________________________________________________________\n",
      "flatten (Flatten)            (None, 1152)              0         \n",
      "_________________________________________________________________\n",
      "dense_1 (Dense)              (None, 10)                11530     \n",
      "=================================================================\n",
      "Total params: 11,850\n",
      "Trainable params: 11,850\n",
      "Non-trainable params: 0\n",
      "_________________________________________________________________\n"
     ]
    }
   ],
   "source": [
    "model = Sequential()\n",
    "model.add(Conv2D(32, (3, 3),\n",
    "                 activation='relu',\n",
    "                 input_shape=(28,28,1),strides=(2,2)))\n",
    "model.add(MaxPooling2D(pool_size=(2, 2)))\n",
    "model.add(Flatten(name='flatten'))\n",
    "model.add(Dense(10, activation='softmax'))\n",
    "model.summary()"
   ]
  },
  {
   "cell_type": "markdown",
   "metadata": {
    "_cell_guid": "8f04f142-761e-4aa4-a721-c931fc25015b",
    "_uuid": "e3ceb1a121fc83870b50178805c34ad7a46fd62b"
   },
   "source": [
    "Before fitting the parameters, we need to compile the model first."
   ]
  },
  {
   "cell_type": "code",
   "execution_count": 7,
   "metadata": {
    "_cell_guid": "b2e4fb4d-88c4-466a-92ae-ab4ada308489",
    "_execution_state": "idle",
    "_uuid": "f2fb8b8916c679ebfce08621a0bebd5467d137d1",
    "collapsed": true
   },
   "outputs": [],
   "source": [
    "model.compile(loss='categorical_crossentropy',\n",
    "              optimizer='RMSprop',\n",
    "              metrics=['accuracy'])"
   ]
  },
  {
   "cell_type": "code",
   "execution_count": 8,
   "metadata": {
    "_cell_guid": "6756fcf6-0993-442b-98b4-27fd296a8be4",
    "_execution_state": "idle",
    "_uuid": "21f1700e44c35ba9bab842952cb37220355c2b7c",
    "scrolled": true
   },
   "outputs": [
    {
     "name": "stdout",
     "output_type": "stream",
     "text": [
      "Train on 37800 samples, validate on 4200 samples\n",
      "Epoch 1/5\n",
      "5s - loss: 0.5229 - acc: 0.8588 - val_loss: 0.2714 - val_acc: 0.9190\n",
      "Epoch 2/5\n",
      "4s - loss: 0.2140 - acc: 0.9390 - val_loss: 0.1999 - val_acc: 0.9405\n",
      "Epoch 3/5\n",
      "5s - loss: 0.1528 - acc: 0.9556 - val_loss: 0.1494 - val_acc: 0.9560\n",
      "Epoch 4/5\n",
      "4s - loss: 0.1244 - acc: 0.9639 - val_loss: 0.1350 - val_acc: 0.9602\n",
      "Epoch 5/5\n",
      "4s - loss: 0.1076 - acc: 0.9685 - val_loss: 0.1166 - val_acc: 0.9655\n"
     ]
    }
   ],
   "source": [
    "batch_size = 64 \n",
    "nb_epochs = 5 \n",
    "history = model.fit(X_train_img, y_train,\n",
    "                    batch_size=batch_size,\n",
    "                    epochs=nb_epochs,\n",
    "                    verbose=2, \n",
    "                    validation_data=(X_val_img, y_val),\n",
    "                    initial_epoch=0)"
   ]
  },
  {
   "cell_type": "markdown",
   "metadata": {
    "_cell_guid": "47ae5637-175f-474b-9dee-d658a45f5fb9",
    "_uuid": "31a2bf07ef37bf110532be2292f79918ceb1d2f1"
   },
   "source": [
    "We can see that after 20 epoch, the validation accuracy is not improved (around 97.6%). The training set accuracy is about 98.8%. We should first try more complicated model to see if the training set accuracy get higher."
   ]
  },
  {
   "cell_type": "code",
   "execution_count": 9,
   "metadata": {
    "_cell_guid": "8300c740-1c54-4b57-a89b-fcb43dee8f3f",
    "_execution_state": "idle",
    "_uuid": "eb0d55e3feefcf8e6ecc81ccbca5fe1bd5648b15"
   },
   "outputs": [
    {
     "name": "stdout",
     "output_type": "stream",
     "text": [
      "_________________________________________________________________\n",
      "Layer (type)                 Output Shape              Param #   \n",
      "=================================================================\n",
      "conv2d_2 (Conv2D)            (None, 24, 24, 64)        1664      \n",
      "_________________________________________________________________\n",
      "conv2d_3 (Conv2D)            (None, 22, 22, 32)        18464     \n",
      "_________________________________________________________________\n",
      "max_pooling2d_2 (MaxPooling2 (None, 11, 11, 32)        0         \n",
      "_________________________________________________________________\n",
      "dense_2 (Dense)              (None, 11, 11, 128)       4224      \n",
      "_________________________________________________________________\n",
      "dropout_1 (Dropout)          (None, 11, 11, 128)       0         \n",
      "_________________________________________________________________\n",
      "flatten (Flatten)            (None, 15488)             0         \n",
      "_________________________________________________________________\n",
      "dense_3 (Dense)              (None, 10)                154890    \n",
      "=================================================================\n",
      "Total params: 179,242\n",
      "Trainable params: 179,242\n",
      "Non-trainable params: 0\n",
      "_________________________________________________________________\n"
     ]
    }
   ],
   "source": [
    "model = Sequential()\n",
    "model.add(Conv2D(64, (5, 5),\n",
    "                 activation='relu',\n",
    "                 input_shape=(28,28,1)))\n",
    "model.add(Conv2D(32, (3, 3), activation='relu'))\n",
    "model.add(MaxPooling2D(pool_size=(2, 2)))\n",
    "model.add(Dense(128, activation='relu'))\n",
    "model.add(Dropout(0.2))   \n",
    "model.add(Flatten(name='flatten'))\n",
    "model.add(Dense(10, activation='softmax'))\n",
    "model.summary()\n",
    "model.compile(loss='categorical_crossentropy',\n",
    "              optimizer='RMSprop',\n",
    "              metrics=['accuracy'])"
   ]
  },
  {
   "cell_type": "code",
   "execution_count": 10,
   "metadata": {
    "_cell_guid": "f70cc586-9066-4d9d-ada9-ba6b34b557f3",
    "_execution_state": "idle",
    "_uuid": "7c5fd13c0b78fa789c5cd00a4bf629b1d7f6750b"
   },
   "outputs": [
    {
     "name": "stdout",
     "output_type": "stream",
     "text": [
      "Train on 37800 samples, validate on 4200 samples\n",
      "Epoch 1/2\n",
      "251s - loss: 0.1644 - acc: 0.9492 - val_loss: 0.0698 - val_acc: 0.9798\n",
      "Epoch 2/2\n",
      "193s - loss: 0.0594 - acc: 0.9821 - val_loss: 0.0723 - val_acc: 0.9774\n"
     ]
    }
   ],
   "source": [
    "batch_size = 64\n",
    "nb_epochs = 2\n",
    "history = model.fit(X_train_img, y_train,\n",
    "                    batch_size=batch_size,\n",
    "                    epochs=nb_epochs,\n",
    "                    verbose=2, # verbose controls the infromation to be displayed. 0: no information displayed\n",
    "                    validation_data=(X_val_img, y_val),\n",
    "                    initial_epoch=0)\n"
   ]
  },
  {
   "cell_type": "code",
   "execution_count": 11,
   "metadata": {
    "_uuid": "25dfa42e01d93c77d51bd10cc6c6ee7bcd537b39",
    "collapsed": true
   },
   "outputs": [],
   "source": [
    "test = pd.read_csv('../input/test.csv')\n",
    "X_test = (test.values).astype('float32')/255 # all pixel values\n",
    "X_test_img = np.reshape(X_test,(X_test.shape[0],28,28,1))"
   ]
  },
  {
   "cell_type": "code",
   "execution_count": 12,
   "metadata": {
    "_cell_guid": "807eac83-7181-4b4c-8726-1da71ddd901b",
    "_execution_state": "idle",
    "_uuid": "355fc986ab5c32dc51de4829cd8cad5f1aae9b50"
   },
   "outputs": [],
   "source": [
    "pred_classes = model.predict_classes(X_test_img,verbose=0)"
   ]
  },
  {
   "cell_type": "markdown",
   "metadata": {
    "_cell_guid": "b266b5e8-ae8c-480d-add6-ed897d3e4153",
    "_execution_state": "idle",
    "_uuid": "02a3ab74db0f1b38a5331c76110185c82cfda755"
   },
   "source": [
    "Take a look at what we predicted on a test sample."
   ]
  },
  {
   "cell_type": "code",
   "execution_count": 13,
   "metadata": {
    "_cell_guid": "a9b2a01c-ce11-49dc-885c-1609c1986593",
    "_execution_state": "idle",
    "_uuid": "7f8806c95b9c8a04f8def3a2006964e0a69825fc"
   },
   "outputs": [
    {
     "data": {
      "image/png": "[encoded data removed]",
      "text/plain": [
       "<matplotlib.figure.Figure at 0x7f66446b2c88>"
      ]
     },
     "metadata": {},
     "output_type": "display_data"
    }
   ],
   "source": [
    "i=10\n",
    "plt.imshow(X_test_img[i,:,:,0],cmap='gray')\n",
    "plt.title('prediction:%d'%pred_classes[i])\n",
    "plt.show()"
   ]
  },
  {
   "cell_type": "code",
   "execution_count": 14,
   "metadata": {
    "_cell_guid": "d355712c-eaf3-46a9-9046-7d2669862870",
    "_execution_state": "idle",
    "_uuid": "f8d65f69aa7daa8f6271b041d0d27e51fc49a2a0",
    "collapsed": true
   },
   "outputs": [],
   "source": [
    "def plot_difficult_samples(model,x,y, verbose=True):\n",
    "    \"\"\"\n",
    "    model: trained model from keras\n",
    "    x: size(n,h,w,c)\n",
    "    y: is categorical, i.e. onehot, size(n,10)\n",
    "    \"\"\" \n",
    "    #%%\n",
    "    \n",
    "    pred_classes = model.predict_classes(x,verbose= 0)\n",
    "    y_val_classes = np.argmax(y, axis=1)\n",
    "    er_id = np.nonzero(pred_classes!=y_val_classes)[0]\n",
    "    #%%\n",
    "    K = np.ceil(np.sqrt(len(er_id)))\n",
    "    fig = plt.figure()\n",
    "    print('There are %d wrongly predicted images out of %d validation samples'%(len(er_id),x.shape[0]))\n",
    "    for i in range(len(er_id)):\n",
    "        ax = fig.add_subplot(K,K,i+1)\n",
    "        k = er_id[i]\n",
    "        ax.imshow(x[er_id[i],:,:,0])\n",
    "        ax.axis('off')\n",
    "        if verbose:\n",
    "            ax.set_title('%d as %d'%(y_val_classes[k],pred_classes[k]))"
   ]
  },
  {
   "cell_type": "code",
   "execution_count": 15,
   "metadata": {
    "_cell_guid": "12d1c608-ce5f-45e0-8c18-256c8bacc564",
    "_execution_state": "idle",
    "_uuid": "e636ad30e420bea03c15f8e3c353e6dc059d7e19"
   },
   "outputs": [
    {
     "name": "stdout",
     "output_type": "stream",
     "text": [
      "There are 95 wrongly predicted images out of 4200 validation samples\n"
     ]
    },
    {
     "data": {
      "image/png": "[encoded data removed]",
      "text/plain": [
       "<matplotlib.figure.Figure at 0x7f666f77fc18>"
      ]
     },
     "metadata": {},
     "output_type": "display_data"
    }
   ],
   "source": [
    "plot_difficult_samples(model,X_val_img,y_val,verbose=False)\n",
    "plt.show()"
   ]
  }
 ],
 "metadata": {
  "kernelspec": {
   "display_name": "Python 3",
   "language": "python",
   "name": "python3"
  },
  "language_info": {
   "codemirror_mode": {
    "name": "ipython",
    "version": 3
   },
   "file_extension": ".py",
   "mimetype": "text/x-python",
   "name": "python",
   "nbconvert_exporter": "python",
   "pygments_lexer": "ipython3",
   "version": "3.6.5"
  }
 },
 "nbformat": 4,
 "nbformat_minor": 2
}
